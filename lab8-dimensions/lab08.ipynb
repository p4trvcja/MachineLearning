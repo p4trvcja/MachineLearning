{
 "cells": [
  {
   "cell_type": "code",
   "execution_count": 1,
   "id": "27bdde1a-278c-4caa-a252-a99751e8a527",
   "metadata": {},
   "outputs": [],
   "source": [
    "import numpy as np\n",
    "import pandas as pd\n",
    "import pickle"
   ]
  },
  {
   "cell_type": "markdown",
   "id": "0ac1ca6f-9cc2-4391-bcd1-ff1abcf6454d",
   "metadata": {},
   "source": [
    "## 2. Data preparation"
   ]
  },
  {
   "cell_type": "code",
   "execution_count": 2,
   "id": "88538177-85fa-4c94-8faf-81a8e75076f7",
   "metadata": {},
   "outputs": [],
   "source": [
    "from sklearn.datasets import load_breast_cancer, load_iris\n",
    "\n",
    "data_breast_cancer = load_breast_cancer()\n",
    "\n",
    "X_cancer = data_breast_cancer.data\n",
    "y_cancer = data_breast_cancer.target\n",
    "\n",
    "data_iris = load_iris()\n",
    "\n",
    "X_iris = data_iris.data\n",
    "y_iris = data_iris.target"
   ]
  },
  {
   "cell_type": "markdown",
   "id": "f95fad61-38ed-4d92-8e71-3e4ecfb0117e",
   "metadata": {},
   "source": [
    "## 3.1-3 Principal Component Analysis — PCA"
   ]
  },
  {
   "cell_type": "code",
   "execution_count": 3,
   "id": "57adc656-eca3-40f3-8520-86e82fdd1c28",
   "metadata": {},
   "outputs": [],
   "source": [
    "from sklearn.preprocessing import StandardScaler\n",
    "\n",
    "scaler = StandardScaler()\n",
    "X_cancer_scaled = scaler.fit_transform(X_cancer)\n",
    "X_iris_scaled = scaler.fit_transform(X_iris)"
   ]
  },
  {
   "cell_type": "code",
   "execution_count": 4,
   "id": "8dc5beab-b5b3-433a-8ac1-b831fac92290",
   "metadata": {},
   "outputs": [
    {
     "name": "stdout",
     "output_type": "stream",
     "text": [
      "Breast cancer shape: (569, 30)\n",
      "Reduced breast cancer shape: (569, 1)\n",
      "Iris shape: (150, 4)\n",
      "Reduced iris shape: (150, 1)\n"
     ]
    }
   ],
   "source": [
    "from sklearn.decomposition import PCA\n",
    "\n",
    "pca_cancer = PCA(n_components=0.9)\n",
    "X_cancer_reduced = pca_cancer.fit_transform(X_cancer)\n",
    "print(\"Breast cancer shape:\", X_cancer.shape)\n",
    "print(\"Reduced breast cancer shape:\", X_cancer_reduced.shape)\n",
    "\n",
    "pca_iris = PCA(n_components=0.9)\n",
    "X_iris_reduced = pca_iris.fit_transform(X_iris)\n",
    "print(\"Iris shape:\", X_iris.shape)\n",
    "print(\"Reduced iris shape:\", X_iris_reduced.shape)"
   ]
  },
  {
   "cell_type": "code",
   "execution_count": 5,
   "id": "84ba1762-92a5-479a-9e3e-2358e04d69a2",
   "metadata": {},
   "outputs": [
    {
     "name": "stdout",
     "output_type": "stream",
     "text": [
      "Scaled breast cancer shape: (569, 30)\n",
      "Reduced breast cancer shape after scaling: (569, 7)\n",
      "Scaled iris shape: (150, 4)\n",
      "Reduced iris shape after scaling: (150, 2)\n"
     ]
    }
   ],
   "source": [
    "pca_cancer_scaled = PCA(n_components=0.9)\n",
    "X_red_cancer_scaled = pca_cancer_scaled.fit_transform(X_cancer_scaled)\n",
    "print(\"Scaled breast cancer shape:\", X_cancer_scaled.shape)\n",
    "print(\"Reduced breast cancer shape after scaling:\", X_red_cancer_scaled.shape)\n",
    "\n",
    "pca_iris_scaled = PCA(n_components=0.9)\n",
    "X_red_iris_scaled = pca_iris_scaled.fit_transform(X_iris_scaled)\n",
    "X_iris_reduced = pca_iris.fit_transform(X_iris)\n",
    "print(\"Scaled iris shape:\", X_iris_scaled.shape)\n",
    "print(\"Reduced iris shape after scaling:\", X_red_iris_scaled.shape)"
   ]
  },
  {
   "cell_type": "code",
   "execution_count": 6,
   "id": "962713a3-caa1-44f6-a020-a94ea029de0b",
   "metadata": {},
   "outputs": [],
   "source": [
    "with open(\"pca_bc.pkl\", 'wb') as f:\n",
    "    pickle.dump(pca_cancer_scaled.explained_variance_ratio_, f)\n",
    "\n",
    "with open(\"pca_ir.pkl\", 'wb') as f:\n",
    "    pickle.dump(pca_iris_scaled.explained_variance_ratio_, f)"
   ]
  },
  {
   "cell_type": "markdown",
   "id": "82a86384-40c1-4f7a-b768-e8dc4f6a21de",
   "metadata": {},
   "source": [
    "## 3.4 Most important features"
   ]
  },
  {
   "cell_type": "code",
   "execution_count": 7,
   "id": "adf6b6cf-16ab-436e-a4a8-e7111434c9aa",
   "metadata": {},
   "outputs": [
    {
     "name": "stdout",
     "output_type": "stream",
     "text": [
      "[7, 9, 11, 21, 4, 28, 29]\n",
      "[2, 1]\n"
     ]
    }
   ],
   "source": [
    "most_important_features_cancer = [np.argmax(abs(x)) for x in pca_cancer_scaled.components_]\n",
    "most_important_features_iris = [np.argmax(abs(x)) for x in pca_iris_scaled.components_]\n",
    "\n",
    "pd.to_pickle(most_important_features_cancer, \"idx_bc.pkl\")\n",
    "pd.to_pickle(most_important_features_iris, \"idx_ir.pkl\")\n",
    "\n",
    "print(most_important_features_cancer)\n",
    "print(most_important_features_iris)"
   ]
  },
  {
   "cell_type": "code",
   "execution_count": null,
   "id": "93dded06-b025-43a0-a721-5e32e501db80",
   "metadata": {},
   "outputs": [],
   "source": []
  }
 ],
 "metadata": {
  "kernelspec": {
   "display_name": "Python 3 (ipykernel)",
   "language": "python",
   "name": "python3"
  },
  "language_info": {
   "codemirror_mode": {
    "name": "ipython",
    "version": 3
   },
   "file_extension": ".py",
   "mimetype": "text/x-python",
   "name": "python",
   "nbconvert_exporter": "python",
   "pygments_lexer": "ipython3",
   "version": "3.9.18"
  }
 },
 "nbformat": 4,
 "nbformat_minor": 5
}
