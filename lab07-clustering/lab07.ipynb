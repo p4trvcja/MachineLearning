{
 "cells": [
  {
   "cell_type": "code",
   "execution_count": 1,
   "id": "6a39f01f-0ce8-4cf6-883f-24230c039338",
   "metadata": {},
   "outputs": [],
   "source": [
    "from sklearn.datasets import fetch_openml\n",
    "import numpy as np\n",
    "import pickle"
   ]
  },
  {
   "cell_type": "markdown",
   "id": "0ae1e4f8-17c2-41d0-9b6d-2d375fd1b8b5",
   "metadata": {},
   "source": [
    "## 2. Data preparation"
   ]
  },
  {
   "cell_type": "code",
   "execution_count": 2,
   "id": "202b6806-012b-4433-adf1-2d79103deaae",
   "metadata": {},
   "outputs": [],
   "source": [
    "mnist = fetch_openml('mnist_784', version=1, as_frame=False, parser='auto')\n",
    "mnist.target = mnist.target.astype(np.uint8)\n",
    "X = mnist[\"data\"]\n",
    "y = mnist[\"target\"]"
   ]
  },
  {
   "cell_type": "markdown",
   "id": "ddf15b4c-0423-4d66-b8ed-931bd678185f",
   "metadata": {},
   "source": [
    "## 3.1 Clustering"
   ]
  },
  {
   "cell_type": "code",
   "execution_count": 3,
   "id": "0ed2e7d1-dbbe-4a3b-919a-834d79a19664",
   "metadata": {},
   "outputs": [],
   "source": [
    "from sklearn.cluster import KMeans\n",
    "from sklearn.metrics import silhouette_score\n",
    "\n",
    "silhouette_list = []\n",
    "\n",
    "for k in range (8,13):\n",
    "    kmeans = KMeans(n_clusters=k, n_init=10).fit(X)\n",
    "    silhouette_list.append(silhouette_score(X, kmeans.labels_))\n",
    "\n",
    "with open(\"kmeans_sil.pkl\", 'wb') as f:\n",
    "    pickle.dump(silhouette_list, f)"
   ]
  },
  {
   "cell_type": "code",
   "execution_count": 4,
   "id": "92be459e-646c-4dd3-b426-89f7bdab0803",
   "metadata": {},
   "outputs": [],
   "source": [
    "from sklearn.metrics import confusion_matrix\n",
    "km_10 = KMeans(n_clusters=10, n_init=10).fit(X)\n",
    "y_pred_10 = km_10.predict(X)\n",
    "\n",
    "conf_m = confusion_matrix(y, y_pred_10)"
   ]
  },
  {
   "cell_type": "markdown",
   "id": "ea8df142-6123-418a-9d67-7b7d6cff8564",
   "metadata": {},
   "source": [
    "## 3.5"
   ]
  },
  {
   "cell_type": "code",
   "execution_count": 5,
   "id": "e88c6701-b89d-4991-bd10-b6f2981b07b6",
   "metadata": {},
   "outputs": [
    {
     "name": "stdout",
     "output_type": "stream",
     "text": [
      "[0, 1, 2, 3, 4, 5, 6, 7, 9]\n"
     ]
    }
   ],
   "source": [
    "indices_arr = np.argmax(conf_m, axis=1)\n",
    "set_val = sorted(set(indices_arr))\n",
    "\n",
    "with open(\"kmeans_argmax.pkl\", 'wb') as f:\n",
    "    pickle.dump(list(set_val), f)\n",
    "\n",
    "print(set_val)"
   ]
  },
  {
   "cell_type": "markdown",
   "id": "950c1baa-18c6-4537-b9ea-9bd5bcc8f969",
   "metadata": {},
   "source": [
    "## 3.6"
   ]
  },
  {
   "cell_type": "code",
   "execution_count": 6,
   "id": "e62e3928-3bf5-4b41-8482-84e7274ab9e2",
   "metadata": {},
   "outputs": [
    {
     "name": "stdout",
     "output_type": "stream",
     "text": [
      "distances =  [279.26152617 304.3764117  317.5893575  328.76587414 333.45464459\n",
      " 352.89800226 355.17742045 358.0740147  359.64287842 360.42474943]\n"
     ]
    }
   ],
   "source": [
    "distances = np.array([np.linalg.norm(X[i] - X[j]) for i in range(300) for j in range(len(X))])\n",
    "distances = [i for i in distances if i != 0]\n",
    "\n",
    "distances = np.sort(distances)[:10]\n",
    "\n",
    "with open(\"dist.pkl\", 'wb') as f:\n",
    "    pickle.dump(list(distances), f)\n",
    "\n",
    "print(\"distances = \", distances)"
   ]
  },
  {
   "cell_type": "markdown",
   "id": "0501bdba-b8e0-4f6a-801c-f22255315e3e",
   "metadata": {},
   "source": [
    "## 3.7"
   ]
  },
  {
   "cell_type": "code",
   "execution_count": 7,
   "id": "36e9d63d-170d-4a5c-b68f-df383e9fb639",
   "metadata": {},
   "outputs": [
    {
     "name": "stdout",
     "output_type": "stream",
     "text": [
      "[300.40909846 312.4254624  324.44182634]\n"
     ]
    }
   ],
   "source": [
    "s = np.mean(distances[:3])\n",
    "eps_min = s\n",
    "eps_max = s + 0.1 * s\n",
    "eps_step = 0.04 * s\n",
    "\n",
    "eps_values = np.arange(eps_min, eps_max, eps_step)\n",
    "print(eps_values)"
   ]
  },
  {
   "cell_type": "markdown",
   "id": "c916614e-f034-4ab4-a386-49f7124bd513",
   "metadata": {},
   "source": [
    "## 3.8"
   ]
  },
  {
   "cell_type": "code",
   "execution_count": 9,
   "id": "b326461e-ce89-4b34-9a78-d70264a085ed",
   "metadata": {},
   "outputs": [
    {
     "name": "stdout",
     "output_type": "stream",
     "text": [
      "[4, 7, 22]\n"
     ]
    }
   ],
   "source": [
    "from sklearn.cluster import DBSCAN\n",
    "labels = []\n",
    "\n",
    "for eps in eps_values:\n",
    "    dbscan = DBSCAN(eps=eps)\n",
    "    dbscan.fit(X)\n",
    "    n_labels = len(np.unique(dbscan.labels_))\n",
    "    labels.append(n_labels)\n",
    "\n",
    "with open(\"dbscan_len.pkl\", \"wb\") as f:\n",
    "    pickle.dump(labels, f)\n",
    "print(labels)"
   ]
  },
  {
   "cell_type": "code",
   "execution_count": null,
   "id": "f98e2673-d1f8-4479-8902-51632a32b5de",
   "metadata": {},
   "outputs": [],
   "source": []
  }
 ],
 "metadata": {
  "kernelspec": {
   "display_name": "Python 3 (ipykernel)",
   "language": "python",
   "name": "python3"
  },
  "language_info": {
   "codemirror_mode": {
    "name": "ipython",
    "version": 3
   },
   "file_extension": ".py",
   "mimetype": "text/x-python",
   "name": "python",
   "nbconvert_exporter": "python",
   "pygments_lexer": "ipython3",
   "version": "3.9.18"
  }
 },
 "nbformat": 4,
 "nbformat_minor": 5
}
