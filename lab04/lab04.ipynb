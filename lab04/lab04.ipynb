{
 "cells": [
  {
   "cell_type": "code",
   "execution_count": 1,
   "id": "8253967e-98e0-41af-93bb-38e067e086f5",
   "metadata": {},
   "outputs": [],
   "source": [
    "import numpy as np\n",
    "from sklearn import datasets\n",
    "from sklearn.pipeline import Pipeline\n",
    "from sklearn.preprocessing import StandardScaler, PolynomialFeatures\n",
    "from sklearn.svm import LinearSVC, LinearSVR, SVR\n",
    "from sklearn.metrics import accuracy_score, mean_squared_error, make_scorer\n",
    "from sklearn.model_selection import GridSearchCV"
   ]
  },
  {
   "cell_type": "markdown",
   "id": "8ff2cd85-ec47-424c-aa3d-eb6e47ed63d8",
   "metadata": {},
   "source": [
    "## 4.2 Preparing data"
   ]
  },
  {
   "cell_type": "code",
   "execution_count": 2,
   "id": "650c0db3-2bea-4f15-a53a-d6468336efa6",
   "metadata": {},
   "outputs": [
    {
     "name": "stdout",
     "output_type": "stream",
     "text": [
      "(569, 30)\n",
      "Index(['mean radius', 'mean texture', 'mean perimeter', 'mean area',\n",
      "       'mean smoothness', 'mean compactness', 'mean concavity',\n",
      "       'mean concave points', 'mean symmetry', 'mean fractal dimension',\n",
      "       'radius error', 'texture error', 'perimeter error', 'area error',\n",
      "       'smoothness error', 'compactness error', 'concavity error',\n",
      "       'concave points error', 'symmetry error', 'fractal dimension error',\n",
      "       'worst radius', 'worst texture', 'worst perimeter', 'worst area',\n",
      "       'worst smoothness', 'worst compactness', 'worst concavity',\n",
      "       'worst concave points', 'worst symmetry', 'worst fractal dimension'],\n",
      "      dtype='object')\n"
     ]
    }
   ],
   "source": [
    "data_breast_cancer = datasets.load_breast_cancer(as_frame=True)\n",
    "print(data_breast_cancer['data'].shape)\n",
    "print(data_breast_cancer['data'].columns)"
   ]
  },
  {
   "cell_type": "code",
   "execution_count": 3,
   "id": "96f1e117-a167-4e0d-a3f7-70929ca0cd22",
   "metadata": {},
   "outputs": [
    {
     "name": "stdout",
     "output_type": "stream",
     "text": [
      "(150, 4)\n",
      "Index(['sepal length (cm)', 'sepal width (cm)', 'petal length (cm)',\n",
      "       'petal width (cm)'],\n",
      "      dtype='object')\n"
     ]
    }
   ],
   "source": [
    "data_iris = datasets.load_iris(as_frame=True)\n",
    "print(data_iris['data'].shape)\n",
    "print(data_iris['data'].columns)"
   ]
  },
  {
   "cell_type": "markdown",
   "id": "c27dd54a-4173-434c-8b4d-e5c748fa34fe",
   "metadata": {},
   "source": [
    "## 4.3 Classification \n",
    "### Breast cancer dataset"
   ]
  },
  {
   "cell_type": "code",
   "execution_count": 4,
   "id": "4c838dd7-b99b-4809-a210-c9eea0fd3282",
   "metadata": {},
   "outputs": [],
   "source": [
    "from sklearn.model_selection import train_test_split\n",
    "X_bc_train, X_bc_test, y_bc_train, y_bc_test = train_test_split(data_breast_cancer['data'][['mean area', 'mean smoothness']], data_breast_cancer['target'].astype(np.uint8), test_size=0.2, random_state=42)"
   ]
  },
  {
   "cell_type": "code",
   "execution_count": 5,
   "id": "0ab957e3-ceb5-4783-a80a-e7c830bf5bad",
   "metadata": {},
   "outputs": [
    {
     "name": "stdout",
     "output_type": "stream",
     "text": [
      "Accuracy of breast cancer data: 0.6228070175438597\n"
     ]
    },
    {
     "name": "stderr",
     "output_type": "stream",
     "text": [
      "/home/pati/miniconda3/envs/ml/lib/python3.9/site-packages/sklearn/svm/_classes.py:32: FutureWarning: The default value of `dual` will change from `True` to `'auto'` in 1.5. Set the value of `dual` explicitly to suppress the warning.\n",
      "  warnings.warn(\n",
      "/home/pati/miniconda3/envs/ml/lib/python3.9/site-packages/sklearn/svm/_base.py:1242: ConvergenceWarning: Liblinear failed to converge, increase the number of iterations.\n",
      "  warnings.warn(\n"
     ]
    }
   ],
   "source": [
    "# classification without scaling\n",
    "svm_clf = Pipeline([(\"linear_svc\", LinearSVC(C=1, loss=\"hinge\", random_state=42)),])\n",
    "svm_clf.fit(X_bc_train, y_bc_train)\n",
    "\n",
    "y_bc_train_pred = svm_clf.predict(X_bc_train)\n",
    "y_bc_test_pred = svm_clf.predict(X_bc_test)\n",
    "print(\"Accuracy of breast cancer data:\", accuracy_score(y_bc_test, y_bc_test_pred))"
   ]
  },
  {
   "cell_type": "code",
   "execution_count": 6,
   "id": "f20924f2-e454-4000-a3e5-d3e51d991911",
   "metadata": {},
   "outputs": [
    {
     "name": "stdout",
     "output_type": "stream",
     "text": [
      "Accuracy of breast cancer data with scaling: 0.9298245614035088\n"
     ]
    },
    {
     "name": "stderr",
     "output_type": "stream",
     "text": [
      "/home/pati/miniconda3/envs/ml/lib/python3.9/site-packages/sklearn/svm/_classes.py:32: FutureWarning: The default value of `dual` will change from `True` to `'auto'` in 1.5. Set the value of `dual` explicitly to suppress the warning.\n",
      "  warnings.warn(\n"
     ]
    }
   ],
   "source": [
    "# classification with scaling\n",
    "svm_clf_scale = Pipeline([(\"scaler\", StandardScaler()),\n",
    "                         (\"linear_svc\", LinearSVC(C=1, loss=\"hinge\", random_state=42))])\n",
    "svm_clf_scale.fit(X_bc_train, y_bc_train)\n",
    "\n",
    "y_bc_train_pred_scale = svm_clf_scale.predict(X_bc_train)\n",
    "y_bc_test_pred_scale = svm_clf_scale.predict(X_bc_test)\n",
    "print(\"Accuracy of breast cancer data with scaling:\", accuracy_score(y_bc_test, y_bc_test_pred_scale))"
   ]
  },
  {
   "cell_type": "code",
   "execution_count": 7,
   "id": "954553e1-3485-4997-8b0b-2956ca42138b",
   "metadata": {},
   "outputs": [
    {
     "name": "stdout",
     "output_type": "stream",
     "text": [
      "[0.6285714285714286, 0.6228070175438597, 0.8923076923076924, 0.9298245614035088]\n"
     ]
    }
   ],
   "source": [
    "import pickle\n",
    "data_breast_cancer_acc = [accuracy_score(y_bc_train, y_bc_train_pred), \n",
    "                               accuracy_score(y_bc_test, y_bc_test_pred),\n",
    "                               accuracy_score(y_bc_train, y_bc_train_pred_scale),\n",
    "                               accuracy_score(y_bc_test, y_bc_test_pred_scale)]\n",
    "\n",
    "with open(\"bc_acc.pkl\", 'wb') as f:\n",
    "    pickle.dump(data_breast_cancer_acc, f)\n",
    "print(data_breast_cancer_acc)"
   ]
  },
  {
   "cell_type": "markdown",
   "id": "bc1bd478-fb96-42c9-967e-6f34504735bb",
   "metadata": {},
   "source": [
    "### Iris dataset"
   ]
  },
  {
   "cell_type": "code",
   "execution_count": 8,
   "id": "925fce11-4fb3-47b8-b449-6170fedd1ad8",
   "metadata": {},
   "outputs": [],
   "source": [
    "from sklearn.model_selection import train_test_split\n",
    "X_iris_train, X_iris_test, y_iris_train, y_iris_test = train_test_split(data_iris['data'][['petal length (cm)',\n",
    "       'petal width (cm)']], (data_iris['target'] == 2).astype(np.uint8), test_size=0.2, random_state=42);"
   ]
  },
  {
   "cell_type": "code",
   "execution_count": 9,
   "id": "e51bdb61-e90c-4906-82d9-09130422dba0",
   "metadata": {},
   "outputs": [
    {
     "name": "stdout",
     "output_type": "stream",
     "text": [
      "Accuracy of iris data: 1.0\n"
     ]
    },
    {
     "name": "stderr",
     "output_type": "stream",
     "text": [
      "/home/pati/miniconda3/envs/ml/lib/python3.9/site-packages/sklearn/svm/_classes.py:32: FutureWarning: The default value of `dual` will change from `True` to `'auto'` in 1.5. Set the value of `dual` explicitly to suppress the warning.\n",
      "  warnings.warn(\n",
      "/home/pati/miniconda3/envs/ml/lib/python3.9/site-packages/sklearn/svm/_base.py:1242: ConvergenceWarning: Liblinear failed to converge, increase the number of iterations.\n",
      "  warnings.warn(\n"
     ]
    }
   ],
   "source": [
    "# classification without scaling\n",
    "svm_clf = Pipeline([(\"linear_svc\", LinearSVC(C=1, loss=\"hinge\", random_state=42))])\n",
    "svm_clf.fit(X_iris_train, y_iris_train)\n",
    "\n",
    "y_iris_train_pred = svm_clf.predict(X_iris_train)\n",
    "y_iris_test_pred = svm_clf.predict(X_iris_test)\n",
    "print(\"Accuracy of iris data:\", accuracy_score(y_iris_test, y_iris_test_pred))"
   ]
  },
  {
   "cell_type": "code",
   "execution_count": 10,
   "id": "72ede1b4-56ec-4ad4-9c09-c22912d06468",
   "metadata": {},
   "outputs": [
    {
     "name": "stdout",
     "output_type": "stream",
     "text": [
      "Accuracy of iris data with scaling: 1.0\n"
     ]
    },
    {
     "name": "stderr",
     "output_type": "stream",
     "text": [
      "/home/pati/miniconda3/envs/ml/lib/python3.9/site-packages/sklearn/svm/_classes.py:32: FutureWarning: The default value of `dual` will change from `True` to `'auto'` in 1.5. Set the value of `dual` explicitly to suppress the warning.\n",
      "  warnings.warn(\n"
     ]
    }
   ],
   "source": [
    "# classification with scaling\n",
    "svm_clf_scale = Pipeline([(\"scaler\", StandardScaler()),\n",
    "                         (\"linear_svc\", LinearSVC(C=1, loss=\"hinge\", random_state=42))])\n",
    "svm_clf_scale.fit(X_iris_train, y_iris_train)\n",
    "\n",
    "y_iris_train_pred_scale = svm_clf_scale.predict(X_iris_train)\n",
    "y_iris_test_pred_scale = svm_clf_scale.predict(X_iris_test)\n",
    "print(\"Accuracy of iris data with scaling:\", accuracy_score(y_iris_test, y_iris_test_pred_scale))"
   ]
  },
  {
   "cell_type": "code",
   "execution_count": 11,
   "id": "c233a3f7-cc84-458f-884f-1e4125060bc7",
   "metadata": {},
   "outputs": [
    {
     "name": "stdout",
     "output_type": "stream",
     "text": [
      "[0.9416666666666667, 1.0, 0.9416666666666667, 1.0]\n"
     ]
    }
   ],
   "source": [
    "import pickle\n",
    "data_iris_acc = [accuracy_score(y_iris_train, y_iris_train_pred), \n",
    "                 accuracy_score(y_iris_test, y_iris_test_pred),\n",
    "                 accuracy_score(y_iris_train, y_iris_train_pred_scale),\n",
    "                 accuracy_score(y_iris_test, y_iris_test_pred_scale)]\n",
    "\n",
    "with open(\"iris_acc.pkl\", 'wb') as f:\n",
    "    pickle.dump(data_iris_acc, f)\n",
    "\n",
    "print(data_iris_acc)"
   ]
  },
  {
   "cell_type": "markdown",
   "id": "f2f085f7-0715-4230-b3a8-efeb6fbf10b5",
   "metadata": {},
   "source": [
    "## 4.4 Data preparation for regression"
   ]
  },
  {
   "cell_type": "code",
   "execution_count": 12,
   "id": "538b384c-5236-4611-84b3-010b19801a89",
   "metadata": {},
   "outputs": [
    {
     "data": {
      "text/plain": [
       "<Axes: xlabel='x', ylabel='y'>"
      ]
     },
     "execution_count": 12,
     "metadata": {},
     "output_type": "execute_result"
    },
    {
     "data": {
      "image/png": "[encoded data removed]",
      "text/plain": [
       "<Figure size 640x480 with 1 Axes>"
      ]
     },
     "metadata": {},
     "output_type": "display_data"
    }
   ],
   "source": [
    "import numpy as np\n",
    "import pandas as pd\n",
    "size = 900\n",
    "X = np.random.rand(size)*5-2.5\n",
    "w4, w3, w2, w1, w0 = 1, 2, 1, -4, 2\n",
    "y = w4*(X**4) + w3*(X**3) + w2*(X**2) + w1*X + w0 + np.random.randn(size)*8-4\n",
    "df = pd.DataFrame({'x': X, 'y': y})\n",
    "df.plot.scatter(x='x',y='y', color='green')"
   ]
  },
  {
   "cell_type": "code",
   "execution_count": 13,
   "id": "e13124af-8875-40e6-9c4f-87b5abc0d54f",
   "metadata": {},
   "outputs": [],
   "source": [
    "X_reg_train, X_reg_test, y_reg_train, y_reg_test = train_test_split(X, y, test_size=0.2)\n",
    "X_reg_train = X_reg_train.reshape(-1,1)\n",
    "X_reg_test = X_reg_test.reshape(-1,1)"
   ]
  },
  {
   "cell_type": "markdown",
   "id": "e89b6ea5-ac24-4a05-ab7d-63c69aecd4f1",
   "metadata": {},
   "source": [
    "## 4.5 Regression\n",
    "### LinearSVR regresspr and Polynomial of the 4th degree"
   ]
  },
  {
   "cell_type": "code",
   "execution_count": 14,
   "id": "6d461431-1920-4f36-9bb2-aa6d46435bac",
   "metadata": {},
   "outputs": [
    {
     "name": "stdout",
     "output_type": "stream",
     "text": [
      "65.1569260837386 53.15331608847072\n"
     ]
    },
    {
     "name": "stderr",
     "output_type": "stream",
     "text": [
      "/home/pati/miniconda3/envs/ml/lib/python3.9/site-packages/sklearn/svm/_classes.py:32: FutureWarning: The default value of `dual` will change from `True` to `'auto'` in 1.5. Set the value of `dual` explicitly to suppress the warning.\n",
      "  warnings.warn(\n"
     ]
    }
   ],
   "source": [
    "model_reg = Pipeline([(\"scaler\", StandardScaler()),\n",
    "                     (\"polynomial_features\", PolynomialFeatures(degree=4)),\n",
    "                     (\"regressor\", LinearSVR())])\n",
    "\n",
    "model_reg.fit(X_reg_train, y_reg_train)\n",
    "y_reg_train_pred = model_reg.predict(X_reg_train)\n",
    "y_reg_test_pred = model_reg.predict(X_reg_test)\n",
    "\n",
    "mse_reg_train = mean_squared_error(y_reg_train, y_reg_train_pred)\n",
    "mse_reg_test = mean_squared_error(y_reg_test, y_reg_test_pred)\n",
    "\n",
    "print(f'{mse_reg_train} {mse_reg_test}')"
   ]
  },
  {
   "cell_type": "markdown",
   "id": "4c3c9f98-ec0e-40c4-b651-dc31b10f320a",
   "metadata": {},
   "source": [
    "### SVR regressor with 'poly' kernel of the 4th degree"
   ]
  },
  {
   "cell_type": "code",
   "execution_count": 15,
   "id": "df39df09-4f93-4b73-956f-3fb0ab248bfd",
   "metadata": {},
   "outputs": [
    {
     "name": "stdout",
     "output_type": "stream",
     "text": [
      "111.57891389349606 111.38361545724374\n"
     ]
    }
   ],
   "source": [
    "model_svr_poly = SVR(kernel='poly', degree=4)\n",
    "\n",
    "model_svr_poly.fit(X_reg_train, y_reg_train)\n",
    "y_reg_train_pred_poly = model_svr_poly.predict(X_reg_train)\n",
    "y_reg_test_pred_poly = model_svr_poly.predict(X_reg_test)\n",
    "\n",
    "mse_svr_poly_train = mean_squared_error(y_reg_train, y_reg_train_pred_poly)\n",
    "mse_svr_poly_test = mean_squared_error(y_reg_test, y_reg_test_pred_poly)\n",
    "\n",
    "print(f'{mse_svr_poly_train} {mse_svr_poly_test}')"
   ]
  },
  {
   "cell_type": "markdown",
   "id": "9caa8912-5601-45ba-a427-f9aa8b15adf9",
   "metadata": {},
   "source": [
    "### Grid Search CV"
   ]
  },
  {
   "cell_type": "code",
   "execution_count": 16,
   "id": "0624ea47-7aa4-44fd-8026-24ca54b288f5",
   "metadata": {},
   "outputs": [
    {
     "name": "stdout",
     "output_type": "stream",
     "text": [
      "Best parameters for SVR: {'C': 1, 'coef0': 10}\n",
      "64.92377162266469 52.82781279938414\n"
     ]
    }
   ],
   "source": [
    "param_grid = {\"C\" : [0.1, 1, 10], \"coef0\" : [0.1, 1, 10]}\n",
    "\n",
    "grid_search = GridSearchCV(SVR(kernel='poly', degree=4), param_grid, scoring='neg_mean_squared_error')\n",
    "grid_search.fit(X.reshape(-1,1), y)\n",
    "\n",
    "best_params = grid_search.best_params_\n",
    "print(\"Best parameters for SVR:\", best_params)\n",
    "\n",
    "regressor_svr_best = SVR(kernel='poly', degree=4, C=best_params['C'], coef0=best_params['coef0'])\n",
    "regressor_svr_best.fit(X_reg_train, y_reg_train)\n",
    "\n",
    "y_reg_train_pred_svr_best = regressor_svr_best.predict(X_reg_train)\n",
    "y_reg_test_pred_svr_best = regressor_svr_best.predict(X_reg_test)\n",
    "\n",
    "mse_train_svr_best = mean_squared_error(y_reg_train, y_reg_train_pred_svr_best)\n",
    "mse_test_svr_best = mean_squared_error(y_reg_test, y_reg_test_pred_svr_best)\n",
    "\n",
    "print(f'{mse_train_svr_best} {mse_test_svr_best}')"
   ]
  },
  {
   "cell_type": "markdown",
   "id": "1d0d89a3-8a79-4534-9cae-5c84e79a5ad7",
   "metadata": {},
   "source": [
    "## Saving to pickle"
   ]
  },
  {
   "cell_type": "code",
   "execution_count": 17,
   "id": "2d1b5c6c-d27f-40eb-9857-ea0e445afa0d",
   "metadata": {},
   "outputs": [
    {
     "name": "stdout",
     "output_type": "stream",
     "text": [
      "[65.1569260837386, 53.15331608847072, 64.92377162266469, 52.82781279938414]\n"
     ]
    }
   ],
   "source": [
    "mse_results = [mse_reg_train, mse_reg_test, mse_train_svr_best, mse_test_svr_best]\n",
    "\n",
    "with open(\"reg_mse.pkl\", 'wb') as f:\n",
    "    pickle.dump(mse_results, f)\n",
    "\n",
    "print(mse_results)"
   ]
  },
  {
   "cell_type": "code",
   "execution_count": null,
   "id": "810c8040-8457-43a4-a85d-3a2bd3919fc6",
   "metadata": {},
   "outputs": [],
   "source": []
  }
 ],
 "metadata": {
  "kernelspec": {
   "display_name": "Python 3 (ipykernel)",
   "language": "python",
   "name": "python3"
  },
  "language_info": {
   "codemirror_mode": {
    "name": "ipython",
    "version": 3
   },
   "file_extension": ".py",
   "mimetype": "text/x-python",
   "name": "python",
   "nbconvert_exporter": "python",
   "pygments_lexer": "ipython3",
   "version": "3.9.18"
  }
 },
 "nbformat": 4,
 "nbformat_minor": 5
}
